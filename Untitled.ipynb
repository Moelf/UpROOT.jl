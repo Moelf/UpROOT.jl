{
 "cells": [
  {
   "cell_type": "code",
   "execution_count": 1,
   "metadata": {},
   "outputs": [],
   "source": [
    "using PyCall, Plots"
   ]
  },
  {
   "cell_type": "code",
   "execution_count": 2,
   "metadata": {},
   "outputs": [],
   "source": [
    "@pyimport uproot"
   ]
  },
  {
   "cell_type": "code",
   "execution_count": 5,
   "metadata": {},
   "outputs": [
    {
     "data": {
      "text/plain": [
       "PyObject <ROOTDirectory b'zz_small.root' at 0x7fb4f14fd358>"
      ]
     },
     "execution_count": 5,
     "metadata": {},
     "output_type": "execute_result"
    }
   ],
   "source": [
    "rfile = uproot.open(\"./HZZ.root\");"
   ]
  },
  {
   "cell_type": "code",
   "execution_count": 10,
   "metadata": {},
   "outputs": [
    {
     "data": {
      "text/plain": [
       "26-element Array{String,1}:\n",
       " \"allclasses\"   \n",
       " \"allitems\"     \n",
       " \"allkeys\"      \n",
       " \"allvalues\"    \n",
       " \"classes\"      \n",
       " \"compression\"  \n",
       " \"fDatimeC\"     \n",
       " \"fDatimeM\"     \n",
       " \"fNbytesKeys\"  \n",
       " \"fNbytesName\"  \n",
       " \"fSeekDir\"     \n",
       " \"fSeekKeys\"    \n",
       " \"fSeekParent\"  \n",
       " \"fVersion\"     \n",
       " \"get\"          \n",
       " \"items\"        \n",
       " \"iterclasses\"  \n",
       " \"iteritems\"    \n",
       " \"iterkeys\"     \n",
       " \"itervalues\"   \n",
       " \"keys\"         \n",
       " \"name\"         \n",
       " \"read\"         \n",
       " \"showstreamers\"\n",
       " \"source\"       \n",
       " \"values\"       "
      ]
     },
     "execution_count": 10,
     "metadata": {},
     "output_type": "execute_result"
    }
   ],
   "source": [
    "filter(x->x[1]!='_', pybuiltin(\"dir\")(rfile));"
   ]
  },
  {
   "cell_type": "code",
   "execution_count": 14,
   "metadata": {},
   "outputs": [
    {
     "data": {
      "text/plain": [
       "PyObject <TTree b'events' at 0x7fb4f1493518>"
      ]
     },
     "execution_count": 14,
     "metadata": {},
     "output_type": "execute_result"
    }
   ],
   "source": [
    "evn = rfile[:get](\"events\");"
   ]
  },
  {
   "cell_type": "code",
   "execution_count": 51,
   "metadata": {},
   "outputs": [
    {
     "data": {
      "text/plain": [
       "51-element Array{String,1}:\n",
       " \"NJet\"                       \n",
       " \"Jet_Px\"                     \n",
       " \"Jet_Py\"                     \n",
       " \"Jet_Pz\"                     \n",
       " \"Jet_E\"                      \n",
       " \"Jet_btag\"                   \n",
       " \"Jet_ID\"                     \n",
       " \"NMuon\"                      \n",
       " \"Muon_Px\"                    \n",
       " \"Muon_Py\"                    \n",
       " \"Muon_Pz\"                    \n",
       " \"Muon_E\"                     \n",
       " \"Muon_Charge\"                \n",
       " ⋮                            \n",
       " \"MChadronicWDecayQuarkBar_py\"\n",
       " \"MChadronicWDecayQuarkBar_pz\"\n",
       " \"MClepton_px\"                \n",
       " \"MClepton_py\"                \n",
       " \"MClepton_pz\"                \n",
       " \"MCleptonPDGid\"              \n",
       " \"MCneutrino_px\"              \n",
       " \"MCneutrino_py\"              \n",
       " \"MCneutrino_pz\"              \n",
       " \"NPrimaryVertices\"           \n",
       " \"triggerIsoMu24\"             \n",
       " \"EventWeight\"                "
      ]
     },
     "execution_count": 51,
     "metadata": {},
     "output_type": "execute_result"
    }
   ],
   "source": [
    "filter(x->x[1]!='_', pybuiltin(\"dir\")(evn));\n",
    "evn[:allkeys]();"
   ]
  },
  {
   "cell_type": "code",
   "execution_count": 61,
   "metadata": {
    "scrolled": true
   },
   "outputs": [
    {
     "ename": "PyCall.PyError",
     "evalue": "PyError ($(Expr(:escape, :(ccall(#= /home/akako/.julia/packages/PyCall/0jMpb/src/PyCall.jl:751 =# @pysym(:PySequence_GetItem), PyPtr, (PyPtr, Int), o, ind2py(i)))))) <class 'KeyError'>\nKeyError('not found: 0')\n  File \"/home/akako/.local/lib/python3.7/site-packages/uproot/tree.py\", line 779, in __getitem__\n    return self.get(name)\n  File \"/home/akako/.local/lib/python3.7/site-packages/uproot/tree.py\", line 337, in get\n    raise KeyError(\"not found: {0}\".format(repr(name)))\n",
     "output_type": "error",
     "traceback": [
      "PyError ($(Expr(:escape, :(ccall(#= /home/akako/.julia/packages/PyCall/0jMpb/src/PyCall.jl:751 =# @pysym(:PySequence_GetItem), PyPtr, (PyPtr, Int), o, ind2py(i)))))) <class 'KeyError'>\nKeyError('not found: 0')\n  File \"/home/akako/.local/lib/python3.7/site-packages/uproot/tree.py\", line 779, in __getitem__\n    return self.get(name)\n  File \"/home/akako/.local/lib/python3.7/site-packages/uproot/tree.py\", line 337, in get\n    raise KeyError(\"not found: {0}\".format(repr(name)))\n",
      "",
      "Stacktrace:",
      " [1] pyerr_check at /home/akako/.julia/packages/PyCall/0jMpb/src/exception.jl:60 [inlined]",
      " [2] pyerr_check at /home/akako/.julia/packages/PyCall/0jMpb/src/exception.jl:64 [inlined]",
      " [3] macro expansion at /home/akako/.julia/packages/PyCall/0jMpb/src/exception.jl:84 [inlined]",
      " [4] _getindex(::PyObject, ::Int64, ::Type) at /home/akako/.julia/packages/PyCall/0jMpb/src/PyCall.jl:751",
      " [5] getindex(::PyObject, ::Int64) at /home/akako/.julia/packages/PyCall/0jMpb/src/PyCall.jl:752",
      " [6] top-level scope at In[61]:1"
     ]
    }
   ],
   "source": [
    "evn[1];"
   ]
  },
  {
   "cell_type": "code",
   "execution_count": 43,
   "metadata": {},
   "outputs": [
    {
     "data": {
      "image/svg+xml": [
       "<?xml version=\"1.0\" encoding=\"utf-8\"?>\n",
       "<svg xmlns=\"http://www.w3.org/2000/svg\" xmlns:xlink=\"http://www.w3.org/1999/xlink\" width=\"600\" height=\"400\" viewBox=\"0 0 2400 1600\">\n",
       "<defs>\n",
       "  <clipPath id=\"clip3100\">\n",
       "    <rect x=\"0\" y=\"0\" width=\"2000\" height=\"2000\"/>\n",
       "  </clipPath>\n",
       "</defs>\n",
       "<defs>\n",
       "  <clipPath id=\"clip3101\">\n",
       "    <rect x=\"0\" y=\"0\" width=\"2400\" height=\"1600\"/>\n",
       "  </clipPath>\n",
       "</defs>\n",
       "<polygon clip-path=\"url(#clip3101)\" points=\"\n",
       "0,1600 2400,1600 2400,0 0,0 \n",
       "  \" fill=\"#ffffff\" fill-opacity=\"1\"/>\n",
       "<defs>\n",
       "  <clipPath id=\"clip3102\">\n",
       "    <rect x=\"480\" y=\"0\" width=\"1681\" height=\"1600\"/>\n",
       "  </clipPath>\n",
       "</defs>\n",
       "<polygon clip-path=\"url(#clip3101)\" points=\"\n",
       "174.775,1503.47 2321.26,1503.47 2321.26,47.2441 174.775,47.2441 \n",
       "  \" fill=\"#ffffff\" fill-opacity=\"1\"/>\n",
       "<defs>\n",
       "  <clipPath id=\"clip3103\">\n",
       "    <rect x=\"174\" y=\"47\" width=\"2147\" height=\"1457\"/>\n",
       "  </clipPath>\n",
       "</defs>\n",
       "<polyline clip-path=\"url(#clip3103)\" style=\"stroke:#000000; stroke-width:2; stroke-opacity:0.1; fill:none\" points=\"\n",
       "  292.836,1503.47 292.836,47.2441 \n",
       "  \"/>\n",
       "<polyline clip-path=\"url(#clip3103)\" style=\"stroke:#000000; stroke-width:2; stroke-opacity:0.1; fill:none\" points=\"\n",
       "  640.175,1503.47 640.175,47.2441 \n",
       "  \"/>\n",
       "<polyline clip-path=\"url(#clip3103)\" style=\"stroke:#000000; stroke-width:2; stroke-opacity:0.1; fill:none\" points=\"\n",
       "  987.513,1503.47 987.513,47.2441 \n",
       "  \"/>\n",
       "<polyline clip-path=\"url(#clip3103)\" style=\"stroke:#000000; stroke-width:2; stroke-opacity:0.1; fill:none\" points=\"\n",
       "  1334.85,1503.47 1334.85,47.2441 \n",
       "  \"/>\n",
       "<polyline clip-path=\"url(#clip3103)\" style=\"stroke:#000000; stroke-width:2; stroke-opacity:0.1; fill:none\" points=\"\n",
       "  1682.19,1503.47 1682.19,47.2441 \n",
       "  \"/>\n",
       "<polyline clip-path=\"url(#clip3103)\" style=\"stroke:#000000; stroke-width:2; stroke-opacity:0.1; fill:none\" points=\"\n",
       "  2029.53,1503.47 2029.53,47.2441 \n",
       "  \"/>\n",
       "<polyline clip-path=\"url(#clip3103)\" style=\"stroke:#000000; stroke-width:2; stroke-opacity:0.1; fill:none\" points=\"\n",
       "  174.775,1462.26 2321.26,1462.26 \n",
       "  \"/>\n",
       "<polyline clip-path=\"url(#clip3103)\" style=\"stroke:#000000; stroke-width:2; stroke-opacity:0.1; fill:none\" points=\"\n",
       "  174.775,1150.39 2321.26,1150.39 \n",
       "  \"/>\n",
       "<polyline clip-path=\"url(#clip3103)\" style=\"stroke:#000000; stroke-width:2; stroke-opacity:0.1; fill:none\" points=\"\n",
       "  174.775,838.514 2321.26,838.514 \n",
       "  \"/>\n",
       "<polyline clip-path=\"url(#clip3103)\" style=\"stroke:#000000; stroke-width:2; stroke-opacity:0.1; fill:none\" points=\"\n",
       "  174.775,526.64 2321.26,526.64 \n",
       "  \"/>\n",
       "<polyline clip-path=\"url(#clip3103)\" style=\"stroke:#000000; stroke-width:2; stroke-opacity:0.1; fill:none\" points=\"\n",
       "  174.775,214.767 2321.26,214.767 \n",
       "  \"/>\n",
       "<polyline clip-path=\"url(#clip3101)\" style=\"stroke:#000000; stroke-width:4; stroke-opacity:1; fill:none\" points=\"\n",
       "  174.775,1503.47 2321.26,1503.47 \n",
       "  \"/>\n",
       "<polyline clip-path=\"url(#clip3101)\" style=\"stroke:#000000; stroke-width:4; stroke-opacity:1; fill:none\" points=\"\n",
       "  174.775,1503.47 174.775,47.2441 \n",
       "  \"/>\n",
       "<polyline clip-path=\"url(#clip3101)\" style=\"stroke:#000000; stroke-width:4; stroke-opacity:1; fill:none\" points=\"\n",
       "  292.836,1503.47 292.836,1481.63 \n",
       "  \"/>\n",
       "<polyline clip-path=\"url(#clip3101)\" style=\"stroke:#000000; stroke-width:4; stroke-opacity:1; fill:none\" points=\"\n",
       "  640.175,1503.47 640.175,1481.63 \n",
       "  \"/>\n",
       "<polyline clip-path=\"url(#clip3101)\" style=\"stroke:#000000; stroke-width:4; stroke-opacity:1; fill:none\" points=\"\n",
       "  987.513,1503.47 987.513,1481.63 \n",
       "  \"/>\n",
       "<polyline clip-path=\"url(#clip3101)\" style=\"stroke:#000000; stroke-width:4; stroke-opacity:1; fill:none\" points=\"\n",
       "  1334.85,1503.47 1334.85,1481.63 \n",
       "  \"/>\n",
       "<polyline clip-path=\"url(#clip3101)\" style=\"stroke:#000000; stroke-width:4; stroke-opacity:1; fill:none\" points=\"\n",
       "  1682.19,1503.47 1682.19,1481.63 \n",
       "  \"/>\n",
       "<polyline clip-path=\"url(#clip3101)\" style=\"stroke:#000000; stroke-width:4; stroke-opacity:1; fill:none\" points=\"\n",
       "  2029.53,1503.47 2029.53,1481.63 \n",
       "  \"/>\n",
       "<polyline clip-path=\"url(#clip3101)\" style=\"stroke:#000000; stroke-width:4; stroke-opacity:1; fill:none\" points=\"\n",
       "  174.775,1462.26 206.972,1462.26 \n",
       "  \"/>\n",
       "<polyline clip-path=\"url(#clip3101)\" style=\"stroke:#000000; stroke-width:4; stroke-opacity:1; fill:none\" points=\"\n",
       "  174.775,1150.39 206.972,1150.39 \n",
       "  \"/>\n",
       "<polyline clip-path=\"url(#clip3101)\" style=\"stroke:#000000; stroke-width:4; stroke-opacity:1; fill:none\" points=\"\n",
       "  174.775,838.514 206.972,838.514 \n",
       "  \"/>\n",
       "<polyline clip-path=\"url(#clip3101)\" style=\"stroke:#000000; stroke-width:4; stroke-opacity:1; fill:none\" points=\"\n",
       "  174.775,526.64 206.972,526.64 \n",
       "  \"/>\n",
       "<polyline clip-path=\"url(#clip3101)\" style=\"stroke:#000000; stroke-width:4; stroke-opacity:1; fill:none\" points=\"\n",
       "  174.775,214.767 206.972,214.767 \n",
       "  \"/>\n",
       "<g clip-path=\"url(#clip3101)\">\n",
       "<text style=\"fill:#000000; fill-opacity:1; font-family:Arial,Helvetica Neue,Helvetica,sans-serif; font-size:48px; text-anchor:middle;\" transform=\"rotate(0, 292.836, 1557.47)\" x=\"292.836\" y=\"1557.47\">0</text>\n",
       "</g>\n",
       "<g clip-path=\"url(#clip3101)\">\n",
       "<text style=\"fill:#000000; fill-opacity:1; font-family:Arial,Helvetica Neue,Helvetica,sans-serif; font-size:48px; text-anchor:middle;\" transform=\"rotate(0, 640.175, 1557.47)\" x=\"640.175\" y=\"1557.47\">1</text>\n",
       "</g>\n",
       "<g clip-path=\"url(#clip3101)\">\n",
       "<text style=\"fill:#000000; fill-opacity:1; font-family:Arial,Helvetica Neue,Helvetica,sans-serif; font-size:48px; text-anchor:middle;\" transform=\"rotate(0, 987.513, 1557.47)\" x=\"987.513\" y=\"1557.47\">2</text>\n",
       "</g>\n",
       "<g clip-path=\"url(#clip3101)\">\n",
       "<text style=\"fill:#000000; fill-opacity:1; font-family:Arial,Helvetica Neue,Helvetica,sans-serif; font-size:48px; text-anchor:middle;\" transform=\"rotate(0, 1334.85, 1557.47)\" x=\"1334.85\" y=\"1557.47\">3</text>\n",
       "</g>\n",
       "<g clip-path=\"url(#clip3101)\">\n",
       "<text style=\"fill:#000000; fill-opacity:1; font-family:Arial,Helvetica Neue,Helvetica,sans-serif; font-size:48px; text-anchor:middle;\" transform=\"rotate(0, 1682.19, 1557.47)\" x=\"1682.19\" y=\"1557.47\">4</text>\n",
       "</g>\n",
       "<g clip-path=\"url(#clip3101)\">\n",
       "<text style=\"fill:#000000; fill-opacity:1; font-family:Arial,Helvetica Neue,Helvetica,sans-serif; font-size:48px; text-anchor:middle;\" transform=\"rotate(0, 2029.53, 1557.47)\" x=\"2029.53\" y=\"1557.47\">5</text>\n",
       "</g>\n",
       "<g clip-path=\"url(#clip3101)\">\n",
       "<text style=\"fill:#000000; fill-opacity:1; font-family:Arial,Helvetica Neue,Helvetica,sans-serif; font-size:48px; text-anchor:end;\" transform=\"rotate(0, 150.775, 1479.76)\" x=\"150.775\" y=\"1479.76\">0</text>\n",
       "</g>\n",
       "<g clip-path=\"url(#clip3101)\">\n",
       "<text style=\"fill:#000000; fill-opacity:1; font-family:Arial,Helvetica Neue,Helvetica,sans-serif; font-size:48px; text-anchor:end;\" transform=\"rotate(0, 150.775, 1167.89)\" x=\"150.775\" y=\"1167.89\">200</text>\n",
       "</g>\n",
       "<g clip-path=\"url(#clip3101)\">\n",
       "<text style=\"fill:#000000; fill-opacity:1; font-family:Arial,Helvetica Neue,Helvetica,sans-serif; font-size:48px; text-anchor:end;\" transform=\"rotate(0, 150.775, 856.014)\" x=\"150.775\" y=\"856.014\">400</text>\n",
       "</g>\n",
       "<g clip-path=\"url(#clip3101)\">\n",
       "<text style=\"fill:#000000; fill-opacity:1; font-family:Arial,Helvetica Neue,Helvetica,sans-serif; font-size:48px; text-anchor:end;\" transform=\"rotate(0, 150.775, 544.14)\" x=\"150.775\" y=\"544.14\">600</text>\n",
       "</g>\n",
       "<g clip-path=\"url(#clip3101)\">\n",
       "<text style=\"fill:#000000; fill-opacity:1; font-family:Arial,Helvetica Neue,Helvetica,sans-serif; font-size:48px; text-anchor:end;\" transform=\"rotate(0, 150.775, 232.267)\" x=\"150.775\" y=\"232.267\">800</text>\n",
       "</g>\n",
       "<polygon clip-path=\"url(#clip3103)\" points=\"\n",
       "292.836,345.754 292.836,1462.26 466.505,1462.26 466.505,345.754 292.836,345.754 292.836,345.754 \n",
       "  \" fill=\"#009af9\" fill-opacity=\"1\"/>\n",
       "<polyline clip-path=\"url(#clip3103)\" style=\"stroke:#000000; stroke-width:4; stroke-opacity:1; fill:none\" points=\"\n",
       "  292.836,345.754 292.836,1462.26 466.505,1462.26 466.505,345.754 292.836,345.754 \n",
       "  \"/>\n",
       "<polygon clip-path=\"url(#clip3103)\" points=\"\n",
       "466.505,1462.26 466.505,1462.26 640.175,1462.26 640.175,1462.26 466.505,1462.26 466.505,1462.26 \n",
       "  \" fill=\"#009af9\" fill-opacity=\"1\"/>\n",
       "<polyline clip-path=\"url(#clip3103)\" style=\"stroke:#000000; stroke-width:4; stroke-opacity:1; fill:none\" points=\"\n",
       "  466.505,1462.26 466.505,1462.26 640.175,1462.26 466.505,1462.26 \n",
       "  \"/>\n",
       "<polygon clip-path=\"url(#clip3103)\" points=\"\n",
       "640.175,88.4582 640.175,1462.26 813.844,1462.26 813.844,88.4582 640.175,88.4582 640.175,88.4582 \n",
       "  \" fill=\"#009af9\" fill-opacity=\"1\"/>\n",
       "<polyline clip-path=\"url(#clip3103)\" style=\"stroke:#000000; stroke-width:4; stroke-opacity:1; fill:none\" points=\"\n",
       "  640.175,88.4582 640.175,1462.26 813.844,1462.26 813.844,88.4582 640.175,88.4582 \n",
       "  \"/>\n",
       "<polygon clip-path=\"url(#clip3103)\" points=\"\n",
       "813.844,1462.26 813.844,1462.26 987.513,1462.26 987.513,1462.26 813.844,1462.26 813.844,1462.26 \n",
       "  \" fill=\"#009af9\" fill-opacity=\"1\"/>\n",
       "<polyline clip-path=\"url(#clip3103)\" style=\"stroke:#000000; stroke-width:4; stroke-opacity:1; fill:none\" points=\"\n",
       "  813.844,1462.26 813.844,1462.26 987.513,1462.26 813.844,1462.26 \n",
       "  \"/>\n",
       "<polygon clip-path=\"url(#clip3103)\" points=\"\n",
       "987.513,495.453 987.513,1462.26 1161.18,1462.26 1161.18,495.453 987.513,495.453 987.513,495.453 \n",
       "  \" fill=\"#009af9\" fill-opacity=\"1\"/>\n",
       "<polyline clip-path=\"url(#clip3103)\" style=\"stroke:#000000; stroke-width:4; stroke-opacity:1; fill:none\" points=\"\n",
       "  987.513,495.453 987.513,1462.26 1161.18,1462.26 1161.18,495.453 987.513,495.453 \n",
       "  \"/>\n",
       "<polygon clip-path=\"url(#clip3103)\" points=\"\n",
       "1161.18,1462.26 1161.18,1462.26 1334.85,1462.26 1334.85,1462.26 1161.18,1462.26 1161.18,1462.26 \n",
       "  \" fill=\"#009af9\" fill-opacity=\"1\"/>\n",
       "<polyline clip-path=\"url(#clip3103)\" style=\"stroke:#000000; stroke-width:4; stroke-opacity:1; fill:none\" points=\"\n",
       "  1161.18,1462.26 1161.18,1462.26 1334.85,1462.26 1161.18,1462.26 \n",
       "  \"/>\n",
       "<polygon clip-path=\"url(#clip3103)\" points=\"\n",
       "1334.85,1200.29 1334.85,1462.26 1508.52,1462.26 1508.52,1200.29 1334.85,1200.29 1334.85,1200.29 \n",
       "  \" fill=\"#009af9\" fill-opacity=\"1\"/>\n",
       "<polyline clip-path=\"url(#clip3103)\" style=\"stroke:#000000; stroke-width:4; stroke-opacity:1; fill:none\" points=\"\n",
       "  1334.85,1200.29 1334.85,1462.26 1508.52,1462.26 1508.52,1200.29 1334.85,1200.29 \n",
       "  \"/>\n",
       "<polygon clip-path=\"url(#clip3103)\" points=\"\n",
       "1508.52,1462.26 1508.52,1462.26 1682.19,1462.26 1682.19,1462.26 1508.52,1462.26 1508.52,1462.26 \n",
       "  \" fill=\"#009af9\" fill-opacity=\"1\"/>\n",
       "<polyline clip-path=\"url(#clip3103)\" style=\"stroke:#000000; stroke-width:4; stroke-opacity:1; fill:none\" points=\"\n",
       "  1508.52,1462.26 1508.52,1462.26 1682.19,1462.26 1508.52,1462.26 \n",
       "  \"/>\n",
       "<polygon clip-path=\"url(#clip3103)\" points=\"\n",
       "1682.19,1412.36 1682.19,1462.26 1855.86,1462.26 1855.86,1412.36 1682.19,1412.36 1682.19,1412.36 \n",
       "  \" fill=\"#009af9\" fill-opacity=\"1\"/>\n",
       "<polyline clip-path=\"url(#clip3103)\" style=\"stroke:#000000; stroke-width:4; stroke-opacity:1; fill:none\" points=\"\n",
       "  1682.19,1412.36 1682.19,1462.26 1855.86,1462.26 1855.86,1412.36 1682.19,1412.36 \n",
       "  \"/>\n",
       "<polygon clip-path=\"url(#clip3103)\" points=\"\n",
       "1855.86,1462.26 1855.86,1462.26 2029.53,1462.26 2029.53,1462.26 1855.86,1462.26 1855.86,1462.26 \n",
       "  \" fill=\"#009af9\" fill-opacity=\"1\"/>\n",
       "<polyline clip-path=\"url(#clip3103)\" style=\"stroke:#000000; stroke-width:4; stroke-opacity:1; fill:none\" points=\"\n",
       "  1855.86,1462.26 1855.86,1462.26 2029.53,1462.26 1855.86,1462.26 \n",
       "  \"/>\n",
       "<polygon clip-path=\"url(#clip3103)\" points=\"\n",
       "2029.53,1456.02 2029.53,1462.26 2203.2,1462.26 2203.2,1456.02 2029.53,1456.02 2029.53,1456.02 \n",
       "  \" fill=\"#009af9\" fill-opacity=\"1\"/>\n",
       "<polyline clip-path=\"url(#clip3103)\" style=\"stroke:#000000; stroke-width:4; stroke-opacity:1; fill:none\" points=\"\n",
       "  2029.53,1456.02 2029.53,1462.26 2203.2,1462.26 2203.2,1456.02 2029.53,1456.02 \n",
       "  \"/>\n",
       "<polygon clip-path=\"url(#clip3101)\" points=\"\n",
       "1958.43,251.724 2249.26,251.724 2249.26,130.764 1958.43,130.764 \n",
       "  \" fill=\"#ffffff\" fill-opacity=\"1\"/>\n",
       "<polyline clip-path=\"url(#clip3101)\" style=\"stroke:#000000; stroke-width:4; stroke-opacity:1; fill:none\" points=\"\n",
       "  1958.43,251.724 2249.26,251.724 2249.26,130.764 1958.43,130.764 1958.43,251.724 \n",
       "  \"/>\n",
       "<polygon clip-path=\"url(#clip3101)\" points=\"\n",
       "1982.43,215.436 2126.43,215.436 2126.43,167.052 1982.43,167.052 1982.43,215.436 \n",
       "  \" fill=\"#009af9\" fill-opacity=\"1\"/>\n",
       "<polyline clip-path=\"url(#clip3101)\" style=\"stroke:#000000; stroke-width:4; stroke-opacity:1; fill:none\" points=\"\n",
       "  1982.43,215.436 2126.43,215.436 2126.43,167.052 1982.43,167.052 1982.43,215.436 \n",
       "  \"/>\n",
       "<g clip-path=\"url(#clip3101)\">\n",
       "<text style=\"fill:#000000; fill-opacity:1; font-family:Arial,Helvetica Neue,Helvetica,sans-serif; font-size:48px; text-anchor:start;\" transform=\"rotate(0, 2150.43, 208.744)\" x=\"2150.43\" y=\"208.744\">y1</text>\n",
       "</g>\n",
       "</svg>\n"
      ]
     },
     "execution_count": 43,
     "metadata": {},
     "output_type": "execute_result"
    }
   ],
   "source": [
    "histogram(evn[:array](\"NJet\"));"
   ]
  },
  {
   "cell_type": "code",
   "execution_count": null,
   "metadata": {},
   "outputs": [],
   "source": []
  }
 ],
 "metadata": {
  "kernelspec": {
   "display_name": "Julia 1.0.2",
   "language": "julia",
   "name": "julia-1.0"
  },
  "language_info": {
   "file_extension": ".jl",
   "mimetype": "application/julia",
   "name": "julia",
   "version": "1.0.2"
  }
 },
 "nbformat": 4,
 "nbformat_minor": 2
}
